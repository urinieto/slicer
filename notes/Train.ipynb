{
 "cells": [
  {
   "cell_type": "code",
   "execution_count": null,
   "metadata": {},
   "outputs": [],
   "source": [
    "import os\n",
    "os.environ[\"CUDA_DEVICE_ORDER\"]=\"PCI_BUS_ID\"   # see issue #152\n",
    "os.environ[\"CUDA_VISIBLE_DEVICES\"]=\"1\"\n",
    "\n",
    "import datetime\n",
    "import tensorflow as tf\n",
    "from tensorflow import keras\n",
    "import numpy as np\n",
    "import matplotlib.pyplot as plt\n",
    "import sys\n",
    "\n",
    "sys.path.append(\"..\")\n",
    "\n",
    "import slicer\n",
    "from slicer import models\n",
    "\n",
    "N_MINIBATCH = 64\n",
    "N_EPOCHS = 20\n",
    "LR = 0.01\n",
    "PATIENCE = 3\n",
    "\n",
    "%matplotlib inline\n",
    "%load_ext autoreload\n",
    "%autoreload 2"
   ]
  },
  {
   "cell_type": "markdown",
   "metadata": {},
   "source": [
    "# Read Data"
   ]
  },
  {
   "cell_type": "code",
   "execution_count": null,
   "metadata": {},
   "outputs": [],
   "source": [
    "X_train = np.load(\"../data/X_train.npy\").reshape((-1, 80, 322, 1))\n",
    "Y_train = np.load(\"../data/Y_train.npy\")\n",
    "W_train = np.load(\"../data/W_train.npy\")\n",
    "\n",
    "X_test = np.load(\"../data/X_test.npy\").reshape((-1, 80, 322, 1))\n",
    "Y_test = np.load(\"../data/Y_test.npy\")\n",
    "W_test = np.load(\"../data/W_test.npy\")"
   ]
  },
  {
   "cell_type": "code",
   "execution_count": null,
   "metadata": {},
   "outputs": [],
   "source": [
    "max_print = 3\n",
    "for idx in np.where(Y_train == 1)[0][1004:1004 + max_print]:\n",
    "    plt.figure()\n",
    "    plt.imshow(X_train[idx].reshape(80, 322), aspect=\"auto\")"
   ]
  },
  {
   "cell_type": "markdown",
   "metadata": {},
   "source": [
    "# Train"
   ]
  },
  {
   "cell_type": "code",
   "execution_count": null,
   "metadata": {},
   "outputs": [],
   "source": [
    "model = models.CNN().model\n",
    "\n",
    "model.compile(\n",
    "    optimizer=keras.optimizers.Adam(learning_rate=LR),\n",
    "    loss=keras.losses.BinaryCrossentropy(),\n",
    "    metrics=[keras.metrics.BinaryAccuracy()],\n",
    ")\n",
    "\n",
    "callback = tf.keras.callbacks.EarlyStopping(monitor='val_loss', patience=PATIENCE, restore_best_weights=False)\n",
    "log_dir = \"logs/fit/\" + datetime.datetime.now().strftime(\"%Y%m%d-%H%M%S\")\n",
    "tensorboard_callback = tf.keras.callbacks.TensorBoard(log_dir=log_dir, histogram_freq=1)\n",
    "\n",
    "# keras.utils.plot_model(model, show_shapes=True)"
   ]
  },
  {
   "cell_type": "code",
   "execution_count": null,
   "metadata": {},
   "outputs": [],
   "source": [
    "history = model.fit(\n",
    "    X_train,\n",
    "    Y_train,\n",
    "    batch_size=N_MINIBATCH,\n",
    "    epochs=N_EPOCHS,\n",
    "    validation_data=(X_test, Y_test),\n",
    "    callbacks=[callback, tensorboard_callback],\n",
    ")"
   ]
  },
  {
   "cell_type": "markdown",
   "metadata": {},
   "source": [
    "# Inference"
   ]
  },
  {
   "cell_type": "code",
   "execution_count": null,
   "metadata": {},
   "outputs": [],
   "source": [
    "import librosa\n",
    "\n",
    "from slicer import utils\n",
    "from slicer.constants import SR\n",
    "from slicer.constants import HOP_LENGTH\n",
    "from slicer.constants import PEAK_PICKING_THRES\n",
    "from slicer.constants import PINK_NOISE_DUR\n",
    "\n",
    "def do_the_slice(mel, plot=False):\n",
    "    # Preprocess\n",
    "    mel = utils.to_db(utils.pad_pink_noise(mel))\n",
    "    \n",
    "    # Get patches and do inference\n",
    "    X = utils.get_mel_patches(mel, 1, 322)\n",
    "    Y = model.predict(X.reshape((-1, 80, 322, 1)))\n",
    "    \n",
    "    # Obtain boundaries\n",
    "    bounds = utils.peak_picking(Y.flatten(), PEAK_PICKING_THRES)\n",
    "    \n",
    "    # Plot results\n",
    "    if plot:\n",
    "        # Plot novelty curve\n",
    "        plt.figure(figsize=(20, 5))\n",
    "        plt.plot(Y)\n",
    "        for b in bounds:\n",
    "            plt.vlines(b, ymin=0, ymax=1, color='red')\n",
    "    \n",
    "        # Plot melspec with boundaries\n",
    "        noise = int(PINK_NOISE_DUR * SR // HOP_LENGTH)\n",
    "        plt.figure(figsize=(20, 5))\n",
    "        plt.imshow(mel, aspect=\"auto\")\n",
    "        for b in bounds:\n",
    "            plt.vlines(b + noise, ymin=0, ymax=80, color='red')\n",
    "    \n",
    "    return bounds\n",
    "            \n",
    "    \n",
    "\n",
    "AUDIO = \"../trains.mp3\"\n",
    "# AUDIO = \"../paranoid.mp3\"\n",
    "# AUDIO = \"../bohemian.mp3\"\n",
    "audio, _ = librosa.load(AUDIO, sr=slicer.constants.SR)"
   ]
  },
  {
   "cell_type": "code",
   "execution_count": null,
   "metadata": {},
   "outputs": [],
   "source": [
    "mel = utils.compute_melspec(audio)\n",
    "bounds = do_the_slice(mel, plot=True)"
   ]
  },
  {
   "cell_type": "code",
   "execution_count": null,
   "metadata": {},
   "outputs": [],
   "source": [
    "import IPython\n",
    "c = librosa.clicks(frames=bounds, sr=SR, hop_length=HOP_LENGTH, length=len(audio))\n",
    "IPython.display.Audio(audio + c, rate=SR)"
   ]
  },
  {
   "cell_type": "code",
   "execution_count": null,
   "metadata": {},
   "outputs": [],
   "source": [
    "model.save('../models/cnn')"
   ]
  },
  {
   "cell_type": "markdown",
   "metadata": {},
   "source": [
    "# Evaluate"
   ]
  },
  {
   "cell_type": "code",
   "execution_count": null,
   "metadata": {},
   "outputs": [],
   "source": [
    "import mir_eval\n",
    "import os\n",
    "\n",
    "\n",
    "\n",
    "with open(\"../data/names_test.txt\", \"r\") as f:\n",
    "    test_names = f.readlines()\n",
    "\n",
    "\n",
    "for name in test_names:\n",
    "    name = name.replace(\"\\n\", \"\")\n",
    "    mel = np.load(os.path.join(\"../melspecs/\", name + \"-mel.npy\"))\n",
    "    slicer.utils.load_bounds(os.path.join(\"../har\"))\n"
   ]
  },
  {
   "cell_type": "code",
   "execution_count": null,
   "metadata": {},
   "outputs": [],
   "source": []
  }
 ],
 "metadata": {
  "kernelspec": {
   "display_name": "Python 3",
   "language": "python",
   "name": "python3"
  },
  "language_info": {
   "codemirror_mode": {
    "name": "ipython",
    "version": 3
   },
   "file_extension": ".py",
   "mimetype": "text/x-python",
   "name": "python",
   "nbconvert_exporter": "python",
   "pygments_lexer": "ipython3",
   "version": "3.7.0"
  }
 },
 "nbformat": 4,
 "nbformat_minor": 4
}
