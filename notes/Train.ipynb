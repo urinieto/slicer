{
 "cells": [
  {
   "cell_type": "code",
   "execution_count": 1,
   "metadata": {},
   "outputs": [],
   "source": [
    "import tensorflow as tf\n",
    "from tensorflow import keras\n",
    "import numpy as np\n",
    "import matplotlib.pyplot as plt\n",
    "import sys\n",
    "\n",
    "sys.path.append(\"..\")\n",
    "\n",
    "import slicer\n",
    "from slicer import models\n",
    "\n",
    "N_MINIBATCH = 64\n",
    "N_EPOCHS = 20\n",
    "\n",
    "%matplotlib inline\n",
    "%load_ext autoreload\n",
    "%autoreload 2"
   ]
  },
  {
   "cell_type": "markdown",
   "metadata": {},
   "source": [
    "# Read Data"
   ]
  },
  {
   "cell_type": "code",
   "execution_count": 2,
   "metadata": {},
   "outputs": [],
   "source": [
    "X_train = np.load(\"../data/X_train.npy\").reshape(-1, 80, 322, 1)\n",
    "Y_train = np.load(\"../data/Y_train.npy\")\n",
    "W_train = np.load(\"../data/W_train.npy\")\n",
    "\n",
    "X_test = np.load(\"../data/X_test.npy\").reshape(-1, 80, 322, 1)\n",
    "Y_test = np.load(\"../data/Y_test.npy\")\n",
    "W_test = np.load(\"../data/W_test.npy\")"
   ]
  },
  {
   "cell_type": "code",
   "execution_count": null,
   "metadata": {},
   "outputs": [],
   "source": [
    "max_print = 3\n",
    "for idx in np.where(Y_train == 1)[0][1004:1004 + max_print]:\n",
    "    print(W_train[idx])\n",
    "    plt.figure()\n",
    "    plt.imshow(X_train[idx].reshape(80, 322), aspect=\"auto\")"
   ]
  },
  {
   "cell_type": "markdown",
   "metadata": {},
   "source": [
    "# Train"
   ]
  },
  {
   "cell_type": "code",
   "execution_count": null,
   "metadata": {},
   "outputs": [],
   "source": [
    "model = models.CNN().model\n",
    "\n",
    "model.compile(\n",
    "    optimizer=keras.optimizers.Adam(),  # Optimizer\n",
    "    loss=keras.losses.BinaryCrossentropy(),\n",
    "    metrics=[keras.metrics.Accuracy()],\n",
    ")\n",
    "\n",
    "keras.utils.plot_model(model, show_shapes=True)"
   ]
  },
  {
   "cell_type": "code",
   "execution_count": null,
   "metadata": {},
   "outputs": [
    {
     "name": "stdout",
     "output_type": "stream",
     "text": [
      "Train on 33784 samples, validate on 8568 samples\n",
      "Epoch 1/20\n",
      " 2112/33784 [>.............................] - ETA: 10:03 - loss: 0.8094 - accuracy: 0.0000e+00"
     ]
    }
   ],
   "source": [
    "history = model.fit(\n",
    "    X_train,\n",
    "    Y_train,\n",
    "    batch_size=N_MINIBATCH,\n",
    "    epochs=N_EPOCHS,\n",
    "    validation_data=(X_test, Y_test),\n",
    ")\n"
   ]
  },
  {
   "cell_type": "code",
   "execution_count": null,
   "metadata": {},
   "outputs": [],
   "source": []
  }
 ],
 "metadata": {
  "kernelspec": {
   "display_name": "Python 3",
   "language": "python",
   "name": "python3"
  },
  "language_info": {
   "codemirror_mode": {
    "name": "ipython",
    "version": 3
   },
   "file_extension": ".py",
   "mimetype": "text/x-python",
   "name": "python",
   "nbconvert_exporter": "python",
   "pygments_lexer": "ipython3",
   "version": "3.7.4"
  }
 },
 "nbformat": 4,
 "nbformat_minor": 4
}
